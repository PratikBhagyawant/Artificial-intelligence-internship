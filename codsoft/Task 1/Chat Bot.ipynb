{
 "cells": [
  {
   "cell_type": "code",
   "execution_count": 4,
   "id": "9bac1d9e-83b6-4851-a9b7-c5e1c49678b7",
   "metadata": {},
   "outputs": [
    {
     "name": "stdout",
     "output_type": "stream",
     "text": [
      "Welcome! I'm your interactive rule-based chatbot.\n",
      "You can start chatting with me. Type 'exit' to end the conversation.\n"
     ]
    },
    {
     "name": "stdin",
     "output_type": "stream",
     "text": [
      "You:  hi\n"
     ]
    },
    {
     "name": "stdout",
     "output_type": "stream",
     "text": [
      "Chatbot: Hello!\n"
     ]
    },
    {
     "name": "stdin",
     "output_type": "stream",
     "text": [
      "You:  hello\n"
     ]
    },
    {
     "name": "stdout",
     "output_type": "stream",
     "text": [
      "Chatbot: Hello!\n"
     ]
    },
    {
     "name": "stdin",
     "output_type": "stream",
     "text": [
      "You:  who invented google\n"
     ]
    },
    {
     "name": "stdout",
     "output_type": "stream",
     "text": [
      "Chatbot: Nice question here is your answer https://www.google.com/search?q=who+invented+google&sca_esv=58ef9298476ae25c&rlz=1C1ONGR_enIN1070IN1071&sxsrf=ADLYWIIDJBmlakO8f81stW3-6tRIbazv8g%3A1720497861368&ei=xbaMZtuLFv_lseMPkdWIgAQ&oq=who+invented+goo&gs_lp=Egxnd3Mtd2l6LXNlcnAiEHdobyBpbnZlbnRlZCBnb28qAggAMg4QABiABBiRAhixAxiKBTILEAAYgAQYkQIYigUyCxAAGIAEGJECGIoFMgUQABiABDIFEAAYgAQyBRAAGIAEMgUQABiABDIFEAAYgAQyBRAAGIAEMgUQABiABEjoK1DpAlixF3ABeAGQAQCYAfcBoAHOCaoBBTAuNy4xuAEByAEA-AEBmAIHoAKxB8ICChAAGLADGNYEGEfCAg0QABiABBiwAxhDGIoFwgIOEAAYsAMY5AIY1gTYAQHCAhMQLhiABBiwAxhDGMgDGIoF2AECwgIFEC4YgATCAgwQABiABBgCGAoYywHCAggQABiABBixA8ICERAuGIAEGJECGLEDGIMBGIoFmAMAiAYBkAYRugYGCAEQARgJugYGCAIQARgIkgcDMS42oAeuPQ&sclient=gws-wiz-serp you can clink on it get your answer\n"
     ]
    },
    {
     "name": "stdin",
     "output_type": "stream",
     "text": [
      "You:  thanks\n"
     ]
    },
    {
     "name": "stdout",
     "output_type": "stream",
     "text": [
      "Chatbot: You're welcome!\n"
     ]
    },
    {
     "name": "stdin",
     "output_type": "stream",
     "text": [
      "You:  will ai take job\n"
     ]
    },
    {
     "name": "stdout",
     "output_type": "stream",
     "text": [
      "Chatbot: AI is already starting to transform many industries and job roles. While it's unlikely to completely replace humans in most fields, it will certainly change the nature of work. Some jobs may become automated, while new jobs requiring AI-related skills may emerge. For example, AI can automate repetitive tasks but may also create opportunities in fields like data science, AI engineering, and human-AI interaction. Overall, the impact of AI on jobs will depend on how society adapts and integrates this technology into different sectors.\n"
     ]
    },
    {
     "name": "stdin",
     "output_type": "stream",
     "text": [
      "You:  thanks\n"
     ]
    },
    {
     "name": "stdout",
     "output_type": "stream",
     "text": [
      "Chatbot: You're welcome!\n"
     ]
    },
    {
     "name": "stdin",
     "output_type": "stream",
     "text": [
      "You:  exit\n"
     ]
    },
    {
     "name": "stdout",
     "output_type": "stream",
     "text": [
      "Chatbot: Goodbye!\n"
     ]
    }
   ],
   "source": [
    "import re\n",
    "import random\n",
    "\n",
    "# Define patterns and corresponding responses\n",
    "patterns_responses = [\n",
    "    (r\"(?i).*\\b(hello|hi|hey)\\b.*\", [\"Hi there! How can I help you today?\", \"Hello!\"]),\n",
    "    (r\"(?i).*\\b(who invented google)\\b.*\", [\"Nice question here is your answer https://www.google.com/search?q=who+invented+google&sca_esv=58ef9298476ae25c&rlz=1C1ONGR_enIN1070IN1071&sxsrf=ADLYWIIDJBmlakO8f81stW3-6tRIbazv8g%3A1720497861368&ei=xbaMZtuLFv_lseMPkdWIgAQ&oq=who+invented+goo&gs_lp=Egxnd3Mtd2l6LXNlcnAiEHdobyBpbnZlbnRlZCBnb28qAggAMg4QABiABBiRAhixAxiKBTILEAAYgAQYkQIYigUyCxAAGIAEGJECGIoFMgUQABiABDIFEAAYgAQyBRAAGIAEMgUQABiABDIFEAAYgAQyBRAAGIAEMgUQABiABEjoK1DpAlixF3ABeAGQAQCYAfcBoAHOCaoBBTAuNy4xuAEByAEA-AEBmAIHoAKxB8ICChAAGLADGNYEGEfCAg0QABiABBiwAxhDGIoFwgIOEAAYsAMY5AIY1gTYAQHCAhMQLhiABBiwAxhDGMgDGIoF2AECwgIFEC4YgATCAgwQABiABBgCGAoYywHCAggQABiABBixA8ICERAuGIAEGJECGLEDGIMBGIoFmAMAiAYBkAYRugYGCAEQARgJugYGCAIQARgIkgcDMS42oAeuPQ&sclient=gws-wiz-serp you can clink on it get your answer\"]),\n",
    "    (r\"(?i).*\\b(will ai take job)\\b.*\", [\"AI is already starting to transform many industries and job roles. While it's unlikely to completely replace humans in most fields, it will certainly change the nature of work. Some jobs may become automated, while new jobs requiring AI-related skills may emerge. For example, AI can automate repetitive tasks but may also create opportunities in fields like data science, AI engineering, and human-AI interaction. Overall, the impact of AI on jobs will depend on how society adapts and integrates this technology into different sectors.\"]),\n",
    "    (r\"(?i).*\\b(thank you|thanks)\\b.*\", [\"You're welcome!\", \"No problem!\"]),\n",
    "    (r\"(?i).*\\b(bye|goodbye)\\b.*\", [\"Goodbye! Have a great day!\", \"See you later!\"]),\n",
    "    (r\"(?i).*\\b(exit|quit)\\b.*\", [\"Goodbye! Have a great day!\"]),\n",
    "    (r\"(?i).*\\b(name)\\b.*\", [\"My name is Chatbot.\"]),\n",
    "    (r\"(?i).*\\b(who made you)\\b.*\", [\"I was created by Pratik.\"]),\n",
    "    (r\"(?i).*\\b(hi)\\b.*\", [\"Hello!\"]),\n",
    "]\n",
    "\n",
    "# Function to find an appropriate response based on user input\n",
    "def respond_to_user_input(user_input):\n",
    "    for pattern, responses in patterns_responses:\n",
    "        if re.match(pattern, user_input):\n",
    "            return responses\n",
    "    return [\"I'm sorry, I don't understand that. Can you please rephrase?\"]\n",
    "\n",
    "# Main function to run the chatbot\n",
    "def run_chatbot():\n",
    "    print(\"Welcome! I'm your interactive rule-based chatbot.\")\n",
    "    print(\"You can start chatting with me. Type 'exit' to end the conversation.\")\n",
    "\n",
    "    while True:\n",
    "        user_input = input(\"You: \").strip()\n",
    "        \n",
    "        if user_input.lower() in ['exit', 'quit']:\n",
    "            print(\"Chatbot: Goodbye!\")\n",
    "            break\n",
    "        \n",
    "        responses = respond_to_user_input(user_input)\n",
    "        response = random.choice(responses)  # Select a random response from the list\n",
    "\n",
    "        print(\"Chatbot:\", response)\n",
    "\n",
    "# Run the chatbot\n",
    "if __name__ == \"__main__\":\n",
    "    run_chatbot()"
   ]
  },
  {
   "cell_type": "code",
   "execution_count": null,
   "id": "18b37754-c912-45ef-a3cf-c6dbd73996e2",
   "metadata": {},
   "outputs": [],
   "source": []
  }
 ],
 "metadata": {
  "kernelspec": {
   "display_name": "Python 3 (ipykernel)",
   "language": "python",
   "name": "python3"
  },
  "language_info": {
   "codemirror_mode": {
    "name": "ipython",
    "version": 3
   },
   "file_extension": ".py",
   "mimetype": "text/x-python",
   "name": "python",
   "nbconvert_exporter": "python",
   "pygments_lexer": "ipython3",
   "version": "3.11.4"
  }
 },
 "nbformat": 4,
 "nbformat_minor": 5
}
