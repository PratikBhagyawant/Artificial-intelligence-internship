{
 "cells": [
  {
   "cell_type": "code",
   "execution_count": 1,
   "id": "fd8590ff-5bae-4154-b6aa-07c7692bca58",
   "metadata": {},
   "outputs": [
    {
     "name": "stdout",
     "output_type": "stream",
     "text": [
      "Tic Tac Toe\n",
      "  |   |  \n",
      "-----\n",
      "  |   |  \n",
      "-----\n",
      "  |   |  \n",
      "-----\n"
     ]
    },
    {
     "name": "stdin",
     "output_type": "stream",
     "text": [
      "Enter the row (1, 2, 3):  2\n",
      "Enter the column (1, 2, 3):  2\n"
     ]
    },
    {
     "name": "stdout",
     "output_type": "stream",
     "text": [
      "  |   |  \n",
      "-----\n",
      "  | X |  \n",
      "-----\n",
      "  |   |  \n",
      "-----\n",
      "AI move:\n",
      "O |   |  \n",
      "-----\n",
      "  | X |  \n",
      "-----\n",
      "  |   |  \n",
      "-----\n"
     ]
    },
    {
     "name": "stdin",
     "output_type": "stream",
     "text": [
      "Enter the row (1, 2, 3):  3\n",
      "Enter the column (1, 2, 3):  1\n"
     ]
    },
    {
     "name": "stdout",
     "output_type": "stream",
     "text": [
      "O |   |  \n",
      "-----\n",
      "  | X |  \n",
      "-----\n",
      "X |   |  \n",
      "-----\n",
      "AI move:\n",
      "O |   | O\n",
      "-----\n",
      "  | X |  \n",
      "-----\n",
      "X |   |  \n",
      "-----\n"
     ]
    },
    {
     "name": "stdin",
     "output_type": "stream",
     "text": [
      "Enter the row (1, 2, 3):  1\n",
      "Enter the column (1, 2, 3):  2\n"
     ]
    },
    {
     "name": "stdout",
     "output_type": "stream",
     "text": [
      "O | X | O\n",
      "-----\n",
      "  | X |  \n",
      "-----\n",
      "X |   |  \n",
      "-----\n",
      "AI move:\n",
      "O | X | O\n",
      "-----\n",
      "  | X |  \n",
      "-----\n",
      "X | O |  \n",
      "-----\n"
     ]
    },
    {
     "name": "stdin",
     "output_type": "stream",
     "text": [
      "Enter the row (1, 2, 3):  2\n",
      "Enter the column (1, 2, 3):  1\n"
     ]
    },
    {
     "name": "stdout",
     "output_type": "stream",
     "text": [
      "O | X | O\n",
      "-----\n",
      "X | X |  \n",
      "-----\n",
      "X | O |  \n",
      "-----\n",
      "AI move:\n",
      "O | X | O\n",
      "-----\n",
      "X | X | O\n",
      "-----\n",
      "X | O |  \n",
      "-----\n"
     ]
    },
    {
     "name": "stdin",
     "output_type": "stream",
     "text": [
      "Enter the row (1, 2, 3):  3\n",
      "Enter the column (1, 2, 3):  3\n"
     ]
    },
    {
     "name": "stdout",
     "output_type": "stream",
     "text": [
      "O | X | O\n",
      "-----\n",
      "X | X | O\n",
      "-----\n",
      "X | O | X\n",
      "-----\n",
      "It's a draw!\n"
     ]
    }
   ],
   "source": [
    "import random\n",
    "\n",
    "def print_board(board):\n",
    "    for row in board:\n",
    "        print(\" | \".join(row))\n",
    "        print(\"-\" * 5)\n",
    "\n",
    "def check_winner(board, player):\n",
    "    # Check rows, columns and diagonals\n",
    "    for row in board:\n",
    "        if all(s == player for s in row):\n",
    "            return True\n",
    "    for col in range(3):\n",
    "        if all(row[col] == player for row in board):\n",
    "            return True\n",
    "    if all(board[i][i] == player for i in range(3)) or all(board[i][2 - i] == player for i in range(3)):\n",
    "        return True\n",
    "    return False\n",
    "\n",
    "def is_draw(board):\n",
    "    return all(all(cell != \" \" for cell in row) for row in board)\n",
    "\n",
    "def minimax(board, depth, is_maximizing):\n",
    "    if check_winner(board, \"O\"):\n",
    "        return 1\n",
    "    if check_winner(board, \"X\"):\n",
    "        return -1\n",
    "    if is_draw(board):\n",
    "        return 0\n",
    "\n",
    "    if is_maximizing:\n",
    "        best_score = -float('inf')\n",
    "        for i in range(3):\n",
    "            for j in range(3):\n",
    "                if board[i][j] == \" \":\n",
    "                    board[i][j] = \"O\"\n",
    "                    score = minimax(board, depth + 1, False)\n",
    "                    board[i][j] = \" \"\n",
    "                    best_score = max(score, best_score)\n",
    "        return best_score\n",
    "    else:\n",
    "        best_score = float('inf')\n",
    "        for i in range(3):\n",
    "            for j in range(3):\n",
    "                if board[i][j] == \" \":\n",
    "                    board[i][j] = \"X\"\n",
    "                    score = minimax(board, depth + 1, True)\n",
    "                    board[i][j] = \" \"\n",
    "                    best_score = min(score, best_score)\n",
    "        return best_score\n",
    "\n",
    "def best_move(board):\n",
    "    best_score = -float('inf')\n",
    "    move = None\n",
    "    for i in range(3):\n",
    "        for j in range(3):\n",
    "            if board[i][j] == \" \":\n",
    "                board[i][j] = \"O\"\n",
    "                score = minimax(board, 0, False)\n",
    "                board[i][j] = \" \"\n",
    "                if score > best_score:\n",
    "                    best_score = score\n",
    "                    move = (i, j)\n",
    "    return move\n",
    "\n",
    "def play():\n",
    "    board = [[\" \" for _ in range(3)] for _ in range(3)]\n",
    "    print(\"Tic Tac Toe\")\n",
    "    print_board(board)\n",
    "\n",
    "    while True:\n",
    "        # Human move\n",
    "        while True:\n",
    "            row = int(input(\"Enter the row (1, 2, 3): \"))-1\n",
    "            col = int(input(\"Enter the column (1, 2, 3): \"))-1\n",
    "            if 0 <= row < 3 and 0 <= col < 3 and board[row][col] == \" \":\n",
    "                board[row][col] = \"X\"\n",
    "                break\n",
    "            else:\n",
    "                print(\"Invalid move. Try again.\")\n",
    "        \n",
    "        print_board(board)\n",
    "        \n",
    "        if check_winner(board, \"X\"):\n",
    "            print(\"Human wins!\")\n",
    "            break\n",
    "        if is_draw(board):\n",
    "            print(\"It's a draw!\")\n",
    "            break\n",
    "\n",
    "        # AI move\n",
    "        move = best_move(board)\n",
    "        if move:\n",
    "            board[move[0]][move[1]] = \"O\"\n",
    "        \n",
    "        print(\"AI move:\")\n",
    "        print_board(board)\n",
    "\n",
    "        if check_winner(board, \"O\"):\n",
    "            print(\"AI wins!\")\n",
    "            break\n",
    "        if is_draw(board):\n",
    "            print(\"It's a draw!\")\n",
    "            break\n",
    "\n",
    "if __name__ == \"__main__\":\n",
    "    play()\n"
   ]
  },
  {
   "cell_type": "code",
   "execution_count": null,
   "id": "12f1d493-9acb-478e-9b87-f83f89b984ca",
   "metadata": {},
   "outputs": [],
   "source": []
  }
 ],
 "metadata": {
  "kernelspec": {
   "display_name": "Python 3 (ipykernel)",
   "language": "python",
   "name": "python3"
  },
  "language_info": {
   "codemirror_mode": {
    "name": "ipython",
    "version": 3
   },
   "file_extension": ".py",
   "mimetype": "text/x-python",
   "name": "python",
   "nbconvert_exporter": "python",
   "pygments_lexer": "ipython3",
   "version": "3.11.4"
  }
 },
 "nbformat": 4,
 "nbformat_minor": 5
}
